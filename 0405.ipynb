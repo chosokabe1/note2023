{
 "cells": [
  {
   "cell_type": "code",
   "execution_count": 18,
   "metadata": {},
   "outputs": [],
   "source": [
    "import os\n",
    "import random\n",
    "from PIL import Image\n",
    "\n",
    "input_dir = 'D:/ex/data/before_pickup/invisible'\n",
    "output_dir = 'D:/ex/data/rectangle/invisible'\n",
    "\n",
    "if not os.path.exists(output_dir):\n",
    "    os.makedirs(output_dir)\n",
    "\n",
    "for file_name in os.listdir(input_dir):\n",
    "    input_file_path = os.path.join(input_dir, file_name)\n",
    "    output_file_path = os.path.join(output_dir, file_name)\n",
    "    \n",
    "    # 画像をグレースケールで開く\n",
    "    with Image.open(input_file_path).convert('L') as img:\n",
    "        width, height = img.size\n",
    "\n",
    "        # 長辺と短辺を決定\n",
    "        long_edge = max(width, height)\n",
    "        short_edge = min(width, height)\n",
    "\n",
    "        # 長方形を正方形に変換\n",
    "        new_img = Image.new(img.mode, (long_edge, long_edge), color=0)\n",
    "        random_padding = random.randint(0, long_edge - short_edge)\n",
    "\n",
    "        if width > height:\n",
    "            new_img.paste(img, (0, random_padding))\n",
    "        else:\n",
    "            new_img.paste(img, (random_padding, 0))\n",
    "\n",
    "        # 画像をグレースケールで保存\n",
    "        new_img.save(output_file_path)"
   ]
  },
  {
   "cell_type": "code",
   "execution_count": 22,
   "metadata": {},
   "outputs": [],
   "source": [
    "import os\n",
    "\n",
    "# ディレクトリパスを指定\n",
    "dir_path = r'D:\\ex\\data\\center_trim'\n",
    "\n",
    "# split1~5フォルダに対して処理を実行\n",
    "for i in range(1, 6):\n",
    "    # invisibleフォルダを作成\n",
    "    os.makedirs(os.path.join(dir_path, f'split{i}', 'invisible'), exist_ok=True)\n",
    "    # visibleフォルダを作成\n",
    "    os.makedirs(os.path.join(dir_path, f'split{i}', 'visible'), exist_ok=True)"
   ]
  },
  {
   "attachments": {},
   "cell_type": "markdown",
   "metadata": {},
   "source": [
    "k-fold"
   ]
  },
  {
   "cell_type": "code",
   "execution_count": 23,
   "metadata": {},
   "outputs": [],
   "source": [
    "import os\n",
    "import shutil\n",
    "\n",
    "def create_fold_directories(num_folds, base_path):\n",
    "    for i in range(1, num_folds + 1):\n",
    "        fold_dir = os.path.join(base_path, f'fold{i}')\n",
    "        for dataset in ['train', 'val']:\n",
    "            for cls in ['visible', 'invisible']:\n",
    "                path = os.path.join(fold_dir, dataset, cls)\n",
    "                os.makedirs(path, exist_ok=True)\n",
    "\n",
    "def copy_split_data_to_folds(num_folds, base_path):\n",
    "    for test_fold in range(1, num_folds + 1):\n",
    "        fold_dir = os.path.join(base_path, f'fold{test_fold}')\n",
    "        \n",
    "        for split in range(1, num_folds + 1):\n",
    "            split_dir = os.path.join(base_path, f'split{split}')\n",
    "            \n",
    "            if split == test_fold:\n",
    "                dataset = 'val'\n",
    "            else:\n",
    "                dataset = 'train'\n",
    "                \n",
    "            for cls in ['visible', 'invisible']:\n",
    "                src = os.path.join(split_dir, cls)\n",
    "                dst = os.path.join(fold_dir, dataset, cls)\n",
    "                \n",
    "                for filename in os.listdir(src):\n",
    "                    src_file = os.path.join(src, filename)\n",
    "                    dst_file = os.path.join(dst, filename)\n",
    "                    shutil.copy(src_file, dst_file)\n",
    "\n",
    "def main():\n",
    "    num_folds = 5\n",
    "    base_path = 'D:\\ex\\data\\center_trim'\n",
    "    \n",
    "    create_fold_directories(num_folds, base_path)\n",
    "    copy_split_data_to_folds(num_folds, base_path)\n",
    "\n",
    "if __name__ == '__main__':\n",
    "    main()"
   ]
  }
 ],
 "metadata": {
  "kernelspec": {
   "display_name": ".sen",
   "language": "python",
   "name": "python3"
  },
  "language_info": {
   "codemirror_mode": {
    "name": "ipython",
    "version": 3
   },
   "file_extension": ".py",
   "mimetype": "text/x-python",
   "name": "python",
   "nbconvert_exporter": "python",
   "pygments_lexer": "ipython3",
   "version": "3.8.10"
  },
  "orig_nbformat": 4
 },
 "nbformat": 4,
 "nbformat_minor": 2
}
