{
 "cells": [
  {
   "attachments": {},
   "cell_type": "markdown",
   "metadata": {},
   "source": [
    "四辺に接してる画像を取り除く"
   ]
  },
  {
   "cell_type": "code",
   "execution_count": 3,
   "metadata": {},
   "outputs": [],
   "source": [
    "import glob\n",
    "import os\n",
    "import shutil"
   ]
  },
  {
   "cell_type": "code",
   "execution_count": 12,
   "metadata": {},
   "outputs": [],
   "source": [
    "infolder=\"D:\\ex\\data\\ID_all_except_multiple\"\n",
    "outfolder=\"D:\\ex\\data\\ID_all_except_cutoff_except_multiple\"\n",
    "touched_on_all_foursides_folder=\"D:\\ex\\data\\ID_all_cutoff_except_multiple\""
   ]
  },
  {
   "attachments": {},
   "cell_type": "markdown",
   "metadata": {},
   "source": [
    "top\n",
    "bottom\n",
    "left\n",
    "right\n",
    "\n",
    "四辺に接しているかどうか\n",
    "しきい値　95%に収まっているか"
   ]
  },
  {
   "cell_type": "code",
   "execution_count": 13,
   "metadata": {},
   "outputs": [],
   "source": [
    "for inpath in glob.glob(os.path.join(infolder, \"*\")):\n",
    "    if \"txt\" in inpath:\n",
    "        with open(inpath) as f:\n",
    "            yolo_txt = f.readlines()\n",
    "            if len(yolo_txt) != 1:\n",
    "                print(\"len(yolo_txt) != 1\")\n",
    "                print(inpath)\n",
    "            \n",
    "            yolo_txt_splits = yolo_txt[0].split() #yolo_txtの1行目を分割する[\n",
    "            x = float(yolo_txt_splits[1])\n",
    "            y = float(yolo_txt_splits[2])\n",
    "            width = float(yolo_txt_splits[3])\n",
    "            height = float(yolo_txt_splits[4])\n",
    "\n",
    "            top = y - height/2\n",
    "            bottom = y + height/2\n",
    "            left = x - width/2\n",
    "            right = x + width/2\n",
    "\n",
    "            folderpath, txt_path = os.path.split(inpath)\n",
    "            imgpath = os.path.join(folderpath,os.path.splitext(txt_path)[0] + '.jpg')\n",
    "            if top < 0.05 or bottom > 1 - 0.05 or left < 0.05 or right > 1 - 0.05: # This is touched on all four sides\n",
    "                shutil.copy(imgpath, touched_on_all_foursides_folder)\n",
    "            else:\n",
    "                shutil.copy(imgpath,outfolder)\n",
    "                shutil.copy(inpath,outfolder)"
   ]
  },
  {
   "attachments": {},
   "cell_type": "markdown",
   "metadata": {},
   "source": [
    "yolo形式のアノテーション情報で画像をトリミングする\n",
    "ここでグレーに変換する"
   ]
  },
  {
   "cell_type": "code",
   "execution_count": 1,
   "metadata": {},
   "outputs": [],
   "source": [
    "import cv2"
   ]
  },
  {
   "cell_type": "code",
   "execution_count": null,
   "metadata": {},
   "outputs": [],
   "source": [
    "infolder = \"D:\\ex\\data\\ID_all_except_cutoff_except_multiple0.05\"\n",
    "outfolder = \"D:\\ex\\data\\\\all_yolo_trim\"\n",
    "\n",
    "for inpath in glob.glob(os.path.join(infolder, \"*\")):\n",
    "    if \"txt\" in inpath:\n",
    "        with open(inpath) as f:\n",
    "            yolo_txt = f.readlines()\n",
    "            if len(yolo_txt) != 1: #yolo形式アノテーションが2行以上ないかチェック\n",
    "                print(\"len(yolo_txt) != 1\")\n",
    "                print(inpath)\n",
    "            \n",
    "\n",
    "            yolo_txt_splits = yolo_txt[0].split() #yolo_txtの1行目を分割する\n",
    "            detect_x = float(yolo_txt_splits[1])\n",
    "            detect_y = float(yolo_txt_splits[2])\n",
    "            detect_width = float(yolo_txt_splits[3])\n",
    "            detect_height = float(yolo_txt_splits[4])\n",
    "\n",
    "            imgpath = os.path.join(infolder,os.path.splitext(inpath)[0] + '.jpg')\n",
    "            img = cv2.imread(imgpath, 0)\n",
    "            img_height, img_width = img.shape\n",
    "\n",
    "            detect_top_coordinate = round(img_height * (detect_y - detect_height/2))\n",
    "            detect_bottom_coordinate = round(img_height * (detect_y + detect_height/2))\n",
    "            detect_left_coordinate = round(img_width * (detect_x - detect_width/2))\n",
    "            detect_right_coordinate = round(img_width * (detect_x + detect_width/2))\n",
    "\n",
    "            print(f\"Object coordinates: Top({detect_top_coordinate}), Bottom({detect_bottom_coordinate}), Left({detect_left_coordinate}), Right({detect_right_coordinate})\")\n",
    "\n",
    "            trim = img[detect_top_coordinate:detect_bottom_coordinate, detect_left_coordinate:detect_right_coordinate]\n",
    "            if trim.size == 0:\n",
    "                print(\"Error: Cropped image is empty.\")\n",
    "            else:\n",
    "                img_basename = os.path.basename(imgpath)\n",
    "                if not cv2.imwrite(os.path.join(outfolder, img_basename), trim):\n",
    "                    print(f\"Error: Unable to save image at '{os.path.join(outfolder, img_basename)}'.\")\n",
    "                else:\n",
    "                    print(f\"Image successfully saved at '{os.path.join(outfolder, img_basename)}'.\")"
   ]
  },
  {
   "attachments": {},
   "cell_type": "markdown",
   "metadata": {},
   "source": [
    "yolo_trim_allを間引きする\n",
    "いったん10枚ごとに"
   ]
  },
  {
   "cell_type": "code",
   "execution_count": 1,
   "metadata": {},
   "outputs": [
    {
     "name": "stdout",
     "output_type": "stream",
     "text": [
      "ディレクトリ構成が作成されました。\n"
     ]
    }
   ],
   "source": [
    "import os\n",
    "\n",
    "# 作成するディレクトリ名をリストに格納\n",
    "folders = [\n",
    "    \"all_images\",\n",
    "    \"egg\",\n",
    "    \"egg_low_grade\",\n",
    "    \"invisible\",\n",
    "    \"indistinguishable\",\n",
    "    \"out_of_focus\",\n",
    "]\n",
    "\n",
    "# ベースディレクトリ名を指定\n",
    "base_directory = \"D:\\ex\\data\\yolo_trim_every10extracted\"\n",
    "\n",
    "# ベースディレクトリを作成\n",
    "os.makedirs(base_directory, exist_ok=True)\n",
    "\n",
    "# 各サブディレクトリを作成\n",
    "for folder in folders:\n",
    "    subdir_path = os.path.join(base_directory, folder)\n",
    "    os.makedirs(subdir_path, exist_ok=True)\n",
    "\n",
    "print(\"ディレクトリ構成が作成されました。\")"
   ]
  },
  {
   "cell_type": "code",
   "execution_count": 2,
   "metadata": {},
   "outputs": [
    {
     "name": "stdout",
     "output_type": "stream",
     "text": [
      "画像が10枚おきに抽出されました。\n"
     ]
    }
   ],
   "source": [
    "import os\n",
    "import shutil\n",
    "\n",
    "source_directory = \"D:\\\\ex\\\\data\\\\yolo_trim_all\"\n",
    "destination_directory = \"D:\\\\ex\\\\data\\\\yolo_trim_every10extracted\\\\all_images\"\n",
    "\n",
    "# 画像が10枚おきに抽出されるようにするためのカウンタ\n",
    "counter = 0\n",
    "\n",
    "# コピー先のディレクトリを作成\n",
    "os.makedirs(destination_directory, exist_ok=True)\n",
    "\n",
    "# 画像ファイルを一覧表示\n",
    "for filename in os.listdir(source_directory):\n",
    "    # ファイルが画像であることを確認（拡張子が.jpg, .jpeg, .pngの場合）\n",
    "    if filename.lower().endswith((\".jpg\", \".jpeg\", \".png\")):\n",
    "        # カウンタが10の倍数の場合、画像をコピー\n",
    "        if counter % 10 == 0:\n",
    "            source_path = os.path.join(source_directory, filename)\n",
    "            destination_path = os.path.join(destination_directory, filename)\n",
    "            shutil.copy2(source_path, destination_path)\n",
    "        # カウンタをインクリメント\n",
    "        counter += 1\n",
    "\n",
    "print(\"画像が10枚おきに抽出されました。\")"
   ]
  },
  {
   "cell_type": "code",
   "execution_count": null,
   "metadata": {},
   "outputs": [],
   "source": [
    "import os\n",
    "import cv2\n",
    "import shutil\n",
    "import numpy as np\n",
    "\n",
    "source_directory = \"D:\\\\ex\\\\data\\\\yolo_trim_all\"\n",
    "destination_directory = \"D:\\\\ex\\\\data\\\\yolo_trim_every10extracted\\\\all_images\"\n",
    "\n",
    "# 類似度の閾値（0.0から1.0の範囲で設定）\n",
    "similarity_threshold_1 = 0.98\n",
    "similarity_threshold_2 = 0.90\n",
    "\n",
    "# 類似度を計算する関数\n",
    "def calculate_similarity(image1, image2):\n",
    "    image1_gray = cv2.cvtColor(image1, cv2.COLOR_BGR2GRAY)\n",
    "    image2_gray = cv2.cvtColor(image2, cv2.COLOR_BGR2GRAY)\n",
    "    return np.mean(image1_gray == image2_gray)\n",
    "\n",
    "os.makedirs(destination_directory, exist_ok=True)\n",
    "\n",
    "# 画像ファイル名を取得し、連番画像順に並べ替える\n",
    "image_files = [file for file in os.listdir(source_directory) if file.lower().endswith((\".jpg\", \".jpeg\", \".png\"))]\n",
    "image_files.sort()\n",
    "\n",
    "prev_image = None\n",
    "counter = 0\n",
    "\n",
    "for index, filename in enumerate(image_files):\n",
    "    source_path = os.path.join(source_directory, filename)\n",
    "    current_image = cv2.imread(source_path)\n",
    "\n",
    "    # 前の画像が存在する場合、類似度を計算\n",
    "    if prev_image is not None:\n",
    "        similarity = calculate_similarity(prev_image, current_image)\n",
    "\n",
    "        # 類似度が閾値1より高い場合（変化が非常に小さい）、より多く間引く\n",
    "        if similarity >= similarity_threshold_1:\n",
    "            if counter % 30 == 0:\n",
    "                destination_path = os.path.join(destination_directory, filename)\n",
    "                shutil.copy2(source_path, destination_path)\n",
    "            counter += 1\n",
    "\n",
    "        # 類似度が閾値2より高い場合（変化が小さい）、多く間引く\n",
    "        elif similarity >= similarity_threshold_2:\n",
    "            if counter % 20 == 0:\n",
    "                destination_path = os.path.join(destination_directory, filename)\n",
    "                shutil.copy2(source_path, destination_path)\n",
    "            counter += 1\n",
    "\n",
    "        # 類似度が閾値2より低い場合（変化が大きい）、10枚おきに画像をコピー\n",
    "        else:\n",
    "            if counter % 10 == 0:\n",
    "                destination_path = os.path.join(destination_directory, filename)\n",
    "                shutil.copy2(source_path, destination_path)\n",
    "            counter += 1\n",
    "\n",
    "    # 最初の画像はコピー\n",
    "    else:\n",
    "        destination_path = os.path.join(destination_directory, filename)\n",
    "        shutil.copy2(source_path, destination_path)\n",
    "        counter += 1\n",
    "\n",
    "    prev_image = current_image\n",
    "\n",
    "print(\"画像が類似度に基づいて間引かれました。\")"
   ]
  },
  {
   "cell_type": "code",
   "execution_count": 7,
   "metadata": {},
   "outputs": [
    {
     "name": "stderr",
     "output_type": "stream",
     "text": [
      "100%|██████████| 3541/3541 [07:24<00:00,  7.97it/s]\n"
     ]
    },
    {
     "data": {
      "image/png": "[encoded data removed]",
      "text/plain": [
       "<Figure size 432x288 with 1 Axes>"
      ]
     },
     "metadata": {
      "needs_background": "light"
     },
     "output_type": "display_data"
    }
   ],
   "source": [
    "import os\n",
    "import cv2\n",
    "import numpy as np\n",
    "import matplotlib.pyplot as plt\n",
    "from skimage.metrics import structural_similarity as ssim\n",
    "from tqdm import tqdm\n",
    "\n",
    "source_directory = \"D:\\\\ex\\\\data\\\\yolo_trim_all\"\n",
    "\n",
    "# 類似度を計算する関数\n",
    "def calculate_similarity(image1, image2):\n",
    "    # 画像が同じサイズでない場合、リサイズする\n",
    "    if image1.shape != image2.shape:\n",
    "        height, width = image1.shape[:2]\n",
    "        image2 = cv2.resize(image2, (width, height))\n",
    "    return ssim(image1, image2)\n",
    "\n",
    "# 画像ファイル名を取得し、連番画像順に並べ替える\n",
    "image_files = [file for file in os.listdir(source_directory) if file.lower().endswith((\".jpg\", \".jpeg\", \".png\"))]\n",
    "image_files.sort()\n",
    "\n",
    "prev_image = None\n",
    "similarities = []\n",
    "\n",
    "# 進捗バーを表示するためにtqdmを使用\n",
    "for index, filename in tqdm(enumerate(image_files), total=len(image_files)):\n",
    "    source_path = os.path.join(source_directory, filename)\n",
    "    current_image = cv2.imread(source_path, 0)\n",
    "\n",
    "    if prev_image is not None:\n",
    "        similarity = calculate_similarity(prev_image, current_image)\n",
    "        similarities.append(similarity)\n",
    "\n",
    "    prev_image = current_image\n",
    "\n",
    "plt.hist(similarities, bins=50)\n",
    "plt.xlabel('Similarity')\n",
    "plt.ylabel('Frequency')\n",
    "plt.title('Similarity Distribution')\n",
    "plt.show()"
   ]
  },
  {
   "cell_type": "code",
   "execution_count": 8,
   "metadata": {},
   "outputs": [
    {
     "name": "stderr",
     "output_type": "stream",
     "text": [
      "  0%|          | 1/3541 [00:00<00:21, 166.72it/s]\n"
     ]
    },
    {
     "ename": "error",
     "evalue": "OpenCV(4.7.0) d:\\a\\opencv-python\\opencv-python\\opencv\\modules\\imgproc\\src\\color.simd_helpers.hpp:92: error: (-2:Unspecified error) in function '__cdecl cv::impl::`anonymous-namespace'::CvtHelper<struct cv::impl::`anonymous namespace'::Set<3,4,-1>,struct cv::impl::A0x981fb336::Set<1,-1,-1>,struct cv::impl::A0x981fb336::Set<0,2,5>,2>::CvtHelper(const class cv::_InputArray &,const class cv::_OutputArray &,int)'\n> Invalid number of channels in input image:\n>     'VScn::contains(scn)'\n> where\n>     'scn' is 1\n",
     "output_type": "error",
     "traceback": [
      "\u001b[1;31m---------------------------------------------------------------------------\u001b[0m",
      "\u001b[1;31merror\u001b[0m                                     Traceback (most recent call last)",
      "\u001b[1;32mc:\\ex\\sen\\2024\\0403.ipynb Cell 14\u001b[0m in \u001b[0;36m<cell line: 31>\u001b[1;34m()\u001b[0m\n\u001b[0;32m     <a href='vscode-notebook-cell:/c%3A/ex/sen/2024/0403.ipynb#X16sZmlsZQ%3D%3D?line=32'>33</a>\u001b[0m current_image \u001b[39m=\u001b[39m cv2\u001b[39m.\u001b[39mimread(source_path, \u001b[39m0\u001b[39m)\n\u001b[0;32m     <a href='vscode-notebook-cell:/c%3A/ex/sen/2024/0403.ipynb#X16sZmlsZQ%3D%3D?line=34'>35</a>\u001b[0m \u001b[39mif\u001b[39;00m prev_image \u001b[39mis\u001b[39;00m \u001b[39mnot\u001b[39;00m \u001b[39mNone\u001b[39;00m:\n\u001b[1;32m---> <a href='vscode-notebook-cell:/c%3A/ex/sen/2024/0403.ipynb#X16sZmlsZQ%3D%3D?line=35'>36</a>\u001b[0m     similarity \u001b[39m=\u001b[39m calculate_similarity(prev_image, current_image)\n\u001b[0;32m     <a href='vscode-notebook-cell:/c%3A/ex/sen/2024/0403.ipynb#X16sZmlsZQ%3D%3D?line=36'>37</a>\u001b[0m     similarities\u001b[39m.\u001b[39mappend(similarity)\n\u001b[0;32m     <a href='vscode-notebook-cell:/c%3A/ex/sen/2024/0403.ipynb#X16sZmlsZQ%3D%3D?line=38'>39</a>\u001b[0m prev_image \u001b[39m=\u001b[39m current_image\n",
      "\u001b[1;32mc:\\ex\\sen\\2024\\0403.ipynb Cell 14\u001b[0m in \u001b[0;36mcalculate_similarity\u001b[1;34m(image1, image2)\u001b[0m\n\u001b[0;32m     <a href='vscode-notebook-cell:/c%3A/ex/sen/2024/0403.ipynb#X16sZmlsZQ%3D%3D?line=12'>13</a>\u001b[0m     height, width \u001b[39m=\u001b[39m image1\u001b[39m.\u001b[39mshape[:\u001b[39m2\u001b[39m]\n\u001b[0;32m     <a href='vscode-notebook-cell:/c%3A/ex/sen/2024/0403.ipynb#X16sZmlsZQ%3D%3D?line=13'>14</a>\u001b[0m     image2 \u001b[39m=\u001b[39m cv2\u001b[39m.\u001b[39mresize(image2, (width, height))\n\u001b[1;32m---> <a href='vscode-notebook-cell:/c%3A/ex/sen/2024/0403.ipynb#X16sZmlsZQ%3D%3D?line=15'>16</a>\u001b[0m image1_gray \u001b[39m=\u001b[39m cv2\u001b[39m.\u001b[39;49mcvtColor(image1, cv2\u001b[39m.\u001b[39;49mCOLOR_BGR2GRAY)\n\u001b[0;32m     <a href='vscode-notebook-cell:/c%3A/ex/sen/2024/0403.ipynb#X16sZmlsZQ%3D%3D?line=16'>17</a>\u001b[0m image2_gray \u001b[39m=\u001b[39m cv2\u001b[39m.\u001b[39mcvtColor(image2, cv2\u001b[39m.\u001b[39mCOLOR_BGR2GRAY)\n\u001b[0;32m     <a href='vscode-notebook-cell:/c%3A/ex/sen/2024/0403.ipynb#X16sZmlsZQ%3D%3D?line=18'>19</a>\u001b[0m min_side \u001b[39m=\u001b[39m \u001b[39mmin\u001b[39m(image1_gray\u001b[39m.\u001b[39mshape)\n",
      "\u001b[1;31merror\u001b[0m: OpenCV(4.7.0) d:\\a\\opencv-python\\opencv-python\\opencv\\modules\\imgproc\\src\\color.simd_helpers.hpp:92: error: (-2:Unspecified error) in function '__cdecl cv::impl::`anonymous-namespace'::CvtHelper<struct cv::impl::`anonymous namespace'::Set<3,4,-1>,struct cv::impl::A0x981fb336::Set<1,-1,-1>,struct cv::impl::A0x981fb336::Set<0,2,5>,2>::CvtHelper(const class cv::_InputArray &,const class cv::_OutputArray &,int)'\n> Invalid number of channels in input image:\n>     'VScn::contains(scn)'\n> where\n>     'scn' is 1\n"
     ]
    }
   ],
   "source": [
    "import os\n",
    "import cv2\n",
    "import numpy as np\n",
    "from tqdm import tqdm\n",
    "\n",
    "source_directory = \"D:\\\\ex\\\\data\\\\yolo_trim_all\"\n",
    "output_directory = \"D:\\\\ex\\\\data\\\\yolo_trim_extracted\"\n",
    "\n",
    "os.makedirs(output_directory, exist_ok=True)\n",
    "\n",
    "def calculate_similarity(image1, image2):\n",
    "    if image1.shape != image2.shape:\n",
    "        height, width = image1.shape[:2]\n",
    "        image2 = cv2.resize(image2, (width, height))\n",
    "\n",
    "    return ssim(image1, image2)\n",
    "\n",
    "image_files = [file for file in os.listdir(source_directory) if file.lower().endswith((\".jpg\", \".jpeg\", \".png\"))]\n",
    "image_files.sort()\n",
    "\n",
    "prev_image = None\n",
    "similarities = []\n",
    "\n",
    "# 類似度を計算\n",
    "for index, filename in tqdm(enumerate(image_files), total=len(image_files)):\n",
    "    source_path = os.path.join(source_directory, filename)\n",
    "    current_image = cv2.imread(source_path, 0)\n",
    "\n",
    "    if prev_image is not None:\n",
    "        similarity = calculate_similarity(prev_image, current_image)\n",
    "        similarities.append(similarity)\n",
    "\n",
    "    prev_image = current_image\n",
    "\n",
    "# 類似度の平均を計算\n",
    "avg_similarity = np.mean(similarities)\n",
    "\n",
    "prev_image = None\n",
    "extraction_frequency = 10\n",
    "\n",
    "# 抽出頻度を調整して画像を保存\n",
    "for index, filename in tqdm(enumerate(image_files), total=len(image_files)):\n",
    "    source_path = os.path.join(source_directory, filename)\n",
    "    current_image = cv2.imread(source_path)\n",
    "\n",
    "    if prev_image is not None:\n",
    "        current_similarity = calculate_similarity(prev_image, current_image)\n",
    "\n",
    "        # 現在の類似度が全体の平均類似度より高い場合、抽出頻度を増やす\n",
    "        if current_similarity > avg_similarity:\n",
    "            extraction_frequency = 15\n",
    "        # 低い場合、抽出頻度を減らす\n",
    "        else:\n",
    "            extraction_frequency = 5\n",
    "\n",
    "        # 抽出頻度に応じて画像を保存\n",
    "        if index % extraction_frequency == 0:\n",
    "            output_path = os.path.join(output_directory, filename)\n",
    "            cv2.imwrite(output_path, current_image)\n",
    "\n",
    "    prev_image = current_image"
   ]
  }
 ],
 "metadata": {
  "kernelspec": {
   "display_name": ".sen",
   "language": "python",
   "name": "python3"
  },
  "language_info": {
   "codemirror_mode": {
    "name": "ipython",
    "version": 3
   },
   "file_extension": ".py",
   "mimetype": "text/x-python",
   "name": "python",
   "nbconvert_exporter": "python",
   "pygments_lexer": "ipython3",
   "version": "3.8.10"
  },
  "orig_nbformat": 4
 },
 "nbformat": 4,
 "nbformat_minor": 2
}
